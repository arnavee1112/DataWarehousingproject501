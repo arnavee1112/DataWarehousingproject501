{
  "cells": [
    {
      "cell_type": "markdown",
      "metadata": {
        "id": "view-in-github",
        "colab_type": "text"
      },
      "source": [
        "<a href=\"https://colab.research.google.com/github/arnavee1112/DataWarehousingproject501/blob/main/AAI_500_M1_Assignment.ipynb\" target=\"_parent\"><img src=\"https://colab.research.google.com/assets/colab-badge.svg\" alt=\"Open In Colab\"/></a>"
      ]
    },
    {
      "cell_type": "markdown",
      "metadata": {
        "id": "vjIhVKzG0SbW"
      },
      "source": [
        "# Assignment 1.1"
      ]
    },
    {
      "cell_type": "markdown",
      "metadata": {
        "id": "_Ngq8D3Z0Sbd"
      },
      "source": [
        "**Name**:  **Arnavee Maltare**\n",
        "Date: 12-05-2025"
      ]
    },
    {
      "cell_type": "markdown",
      "metadata": {
        "id": "-Cp04-qM0Sbg"
      },
      "source": [
        "For this assignment, you will refer to the textbook to solve the practice exercises. **Use Python to answer any coding problems (not R, even if indicated in your textbook).** Use Jupyter Notebook, Google Colab, or a similar software program to complete your assignment. Submit your answers as a **PDF or HTML** file. As a best practice, always label your axes and provide titles for any graphs generated on this assignment. Round all quantitative answers to 2 decimal places."
      ]
    },
    {
      "cell_type": "markdown",
      "metadata": {
        "id": "zv_YxzPG0Sbh"
      },
      "source": [
        "## **Problem # 1.1.**\n",
        "In the 2018 election for Senate in California, a CNN exit poll of 1882 voters stated that 52.5% voted for the Democratic candidate, Diane Feinstein. Of all 11.1 million voters, 54.2% voted for Feinstein.\n",
        "\n",
        "(a) What was the (i) subject, (ii) sample, (iii) population?\n"
      ]
    },
    {
      "cell_type": "markdown",
      "source": [],
      "metadata": {
        "id": "BSx4gYJ7PxpM"
      }
    },
    {
      "cell_type": "markdown",
      "metadata": {
        "id": "R0_ntotb0Sbi"
      },
      "source": [
        "`(a) Your answer goes here`"
      ]
    },
    {
      "cell_type": "code",
      "execution_count": null,
      "metadata": {
        "id": "clf919vW0Sbj"
      },
      "outputs": [],
      "source": [
        "EP_Voters = 1882 #given number of exit poll voters\n",
        "Total_Voters = 11100000 #Total number of voters 11.1 million\n",
        "\n",
        "Subject = 'People who voted for '\n",
        "Sample = EP_Voters\n",
        "Population = Total_Voters\n",
        "\n",
        "\n"
      ]
    },
    {
      "cell_type": "markdown",
      "metadata": {
        "id": "Nkgo_zi30Sbk"
      },
      "source": [
        "## **Problem # 1.2.**\n",
        "The `Students` data file at [http://stat4ds.rwth-aachen.de/data/Students.dat](http://stat4ds.rwth-aachen.de/data/Students.dat) responses of a class of 60\n",
        "social science graduate students at the University of Florida to a questionnaire that asked about *gender* (1 = female, 0 = male), *age*, *hsgpa* = high school GPA (on a four-point scale), cogpa = college GPA, *dhome* = distance (in miles) of the campus from your home town, *dres* = distance (in miles) of the classroom from your current residence, *tv* = average number of hours per week that you watch TV, *sport* = average number of hours per week that you participate in sports or have other physical exercise, *news* = number of\n",
        "times a week you read a newspaper, *aids* = number of people you know who have died from AIDS or who\n",
        "are HIV+, *veg* = whether you are a vegetarian (1 = yes, 0 = no), *affil* = political affiliation (1 = Democrat, 2\n",
        "= Republican, 3 = independent), *ideol* = political ideology (1 = very liberal, 2 = liberal, 3 = slightly liberal, 4\n",
        "= moderate, 5 = slightly conservative, 6 = conservative, 7 = very conservative), *relig* = how often you\n",
        "attend religious services (0 = never, 1 = occasionally, 2 = most weeks, 3 = every week), *abor* = opinion\n",
        "about whether abortion should be legal in the first three months of pregnancy (1 = yes, 0 = no), *affirm* =\n",
        "support affirmative action (1 = yes, 0 = no), and *life* = belief in life after death (1 = yes, 2 = no, 3 =\n",
        "undecided). You will use this data file for some exercises in this book.\n"
      ]
    },
    {
      "cell_type": "markdown",
      "metadata": {
        "id": "a-pHuNYa0Sbl"
      },
      "source": [
        "(a) Practice accessing a data file for statistical analysis with your software by going to the book’s\n",
        "     website and copying and then displaying this data file.\n"
      ]
    },
    {
      "cell_type": "markdown",
      "metadata": {
        "id": "e0ZA4E_N0Sbm"
      },
      "source": [
        "`(a) Your answer goes here`"
      ]
    },
    {
      "cell_type": "code",
      "execution_count": null,
      "metadata": {
        "id": "kFzcmabO0Sbn"
      },
      "outputs": [],
      "source": []
    },
    {
      "cell_type": "markdown",
      "metadata": {
        "id": "2OryX35w0Sbo"
      },
      "source": [
        "(b) Using responses on *abor*, state a question that could be addressed with (i) descriptive\n",
        "     statistics, (ii) inferential statistics.\n"
      ]
    },
    {
      "cell_type": "markdown",
      "metadata": {
        "id": "3rXQyGrD0Sbo"
      },
      "source": [
        "`Your answer goes here`"
      ]
    },
    {
      "cell_type": "markdown",
      "metadata": {
        "id": "68J56CuS0Sbp"
      },
      "source": [
        "## **Problem # 1.3.**\n",
        "Identify each of the following variables as categorical or quantitative: (a) Number of smartphones that you own; (b) County of residence; (c) Choice of diet (vegetarian, nonvegetarian); (d) Distance, in kilometers, commute to work"
      ]
    },
    {
      "cell_type": "markdown",
      "metadata": {
        "id": "IRkch1GD0Sbp"
      },
      "source": [
        "`Your answer goes here`"
      ]
    },
    {
      "cell_type": "markdown",
      "metadata": {
        "id": "SBNDT-0U0Sbp"
      },
      "source": [
        "## **Problem # 1.4.**\n",
        "Give an example of a variable that is (a) categorical; (b) quantitative; (c) discrete; (d) continuous"
      ]
    },
    {
      "cell_type": "markdown",
      "metadata": {
        "id": "x6gwumYO0Sbq"
      },
      "source": [
        "`Your answer goes here`"
      ]
    },
    {
      "cell_type": "markdown",
      "metadata": {
        "id": "l0J0z_wq0Sbq"
      },
      "source": [
        "## **Problem # 1.10.**\n",
        "Analyze the `Carbon_West` ([http://stat4ds.rwth-aachen.de/data/Carbon_West.dat](http://stat4ds.rwth-aachen.de/data/Carbon_West.dat)) data file at the book’s website by **(a)** constructing a frequency distribution and  a histogram, **(b)** finding the mean, median, and standard deviation. Interpret each."
      ]
    },
    {
      "cell_type": "markdown",
      "metadata": {
        "id": "xC59wnHQ0Sbr"
      },
      "source": [
        "`(a)`"
      ]
    },
    {
      "cell_type": "code",
      "execution_count": null,
      "metadata": {
        "id": "7Zn5d5pG0Sbr"
      },
      "outputs": [],
      "source": []
    },
    {
      "cell_type": "markdown",
      "metadata": {
        "id": "0i8hoYxr0Sbr"
      },
      "source": [
        "`(b) Your answer goes here`"
      ]
    },
    {
      "cell_type": "code",
      "execution_count": null,
      "metadata": {
        "id": "_D3GB5zh0Sbs"
      },
      "outputs": [],
      "source": []
    },
    {
      "cell_type": "markdown",
      "metadata": {
        "id": "G5SZMUCu0Sbt"
      },
      "source": [
        "## **Problem # 1.11.**\n",
        "According to Statistics Canada, for the Canadian population having income in 2019, annual income had a median of `$`35,000 and mean of `$`46,700. What would you predict about the shape of the distribution? Why?\n"
      ]
    },
    {
      "cell_type": "markdown",
      "metadata": {
        "id": "JMbbh9Zi0Sbu"
      },
      "source": [
        "`Your answer goes here`"
      ]
    },
    {
      "cell_type": "markdown",
      "metadata": {
        "id": "JjjZCsra0Sbv"
      },
      "source": [
        "## **Problem # 1.13.**\n",
        "A report indicates that public school teacher’s annual salaries in New York city have an approximate  mean of `$`69,000 and standard deviation of `$`6,000. If the distribution has approximately a bell shape, report intervals that contain about (a) 68%, (b) 95%, (c) all or nearly all salaries. Would a salary of  `$`100,000 be unusual? Why?\n"
      ]
    },
    {
      "cell_type": "markdown",
      "metadata": {
        "id": "dHUg_qQ30Sbw"
      },
      "source": [
        "`Your answer goes here`"
      ]
    },
    {
      "cell_type": "markdown",
      "metadata": {
        "id": "p8FrTan10Sbx"
      },
      "source": [
        "## **Problem # 1.17.**\n",
        "From the `Murder` data file ([http://stat4ds.rwth-aachen.de/data/Murder.dat](http://stat4ds.rwth-aachen.de/data/Murder.dat)) at the book’s website, use the variable murder, which is the murder rate (per 100,000 population) for each state in the U.S. in 2017 according to the FBI Uniform Crime Reports. At first, do not use the observation for D.C. (DC). Using software:  \n",
        "(a) Find the mean and standard deviation and interpret their values.  \n",
        "(b) Find the five-number summary, and construct the corresponding box plot. Interpret.  \n",
        "(c) Now include the observation for D.C. What is affected more by this outlier: The mean or the median? The range or the inter-quartile range?"
      ]
    },
    {
      "cell_type": "markdown",
      "metadata": {
        "id": "q4evxmA50Sby"
      },
      "source": [
        "**Answer:**"
      ]
    },
    {
      "cell_type": "markdown",
      "metadata": {
        "id": "iV3BMc8A0Sby"
      },
      "source": [
        "`(a) Your answer goes here`"
      ]
    },
    {
      "cell_type": "code",
      "execution_count": null,
      "metadata": {
        "id": "7eAnMpNF0Sb0"
      },
      "outputs": [],
      "source": []
    },
    {
      "cell_type": "markdown",
      "metadata": {
        "id": "MYotgRMm0Sb0"
      },
      "source": [
        "`(b) Your answer goes here`"
      ]
    },
    {
      "cell_type": "code",
      "execution_count": null,
      "metadata": {
        "id": "eL9ROPmc0Sb1"
      },
      "outputs": [],
      "source": []
    },
    {
      "cell_type": "markdown",
      "metadata": {
        "id": "vUy0RLF80Sb1"
      },
      "source": [
        "`(c) Your answer goes here`"
      ]
    },
    {
      "cell_type": "code",
      "execution_count": null,
      "metadata": {
        "id": "pnxFQKvn0Sb2"
      },
      "outputs": [],
      "source": []
    },
    {
      "cell_type": "markdown",
      "metadata": {
        "id": "EeAyYRQN0Sb2"
      },
      "source": [
        "## **Problem # 1.18.**\n",
        "The `Income` data file ([http://stat4ds.rwth-aachen.de/data/Income.dat](http://stat4ds.rwth-aachen.de/data/Income.dat)) at the book’s website reports annual income values in the U.S., in thousands of dollars.\n",
        "\n",
        "(a) Using software, construct a histogram. Describe its shape.  \n",
        "(b) Find descriptive statistics to summarize the data. Interpret them.  \n",
        "(c) The kernel density estimation method finds a smooth-curve approximation for a histogram. At each value, it takes into account how many observations are nearby and their distance, with more weight given those closer. Increasing the bandwidth increases the influence of observations further away. Plot a smooth-curve approximation for the histogram of income values. Summarize the impact of increasing and of decreasing the bandwidth substantially from the default value.  \n",
        "(d) Construct and interpret side-by-side box plots of income by race (B = Black, H = Hispanic, W = White).  Compare the incomes using numerical descriptive statistics"
      ]
    },
    {
      "cell_type": "markdown",
      "metadata": {
        "id": "h8Oeqc-y0Sb3"
      },
      "source": [
        "**Answer:**"
      ]
    },
    {
      "cell_type": "markdown",
      "metadata": {
        "id": "TRfYHc9-0Sb3"
      },
      "source": [
        "`(a) Your answer goes here`"
      ]
    },
    {
      "cell_type": "code",
      "execution_count": null,
      "metadata": {
        "id": "8izL_ClB0Sb3"
      },
      "outputs": [],
      "source": []
    },
    {
      "cell_type": "markdown",
      "metadata": {
        "id": "NQLLVLcj0Sb4"
      },
      "source": [
        "`(b) Your answer goes here`"
      ]
    },
    {
      "cell_type": "code",
      "execution_count": null,
      "metadata": {
        "id": "taNc1k2g0Sb4"
      },
      "outputs": [],
      "source": []
    },
    {
      "cell_type": "markdown",
      "metadata": {
        "id": "ig66QFK50ScF"
      },
      "source": [
        "`(c) Your answer goes here`"
      ]
    },
    {
      "cell_type": "code",
      "execution_count": null,
      "metadata": {
        "id": "6QWiQDd50ScG"
      },
      "outputs": [],
      "source": []
    },
    {
      "cell_type": "markdown",
      "metadata": {
        "id": "VoEtQVPS0ScG"
      },
      "source": [
        "`(d) Your answer goes here`"
      ]
    },
    {
      "cell_type": "code",
      "execution_count": null,
      "metadata": {
        "id": "k6_zaT7L0ScH"
      },
      "outputs": [],
      "source": []
    },
    {
      "cell_type": "markdown",
      "metadata": {
        "id": "NGGDjqAw0ScH"
      },
      "source": [
        "## **Problem # 1.19.**\n",
        "The `Houses` data file ([http://stat4ds.rwth-aachen.de/data/Houses.dat](http://stat4ds.rwth-aachen.de/data/Houses.dat)) at the book’s website lists the selling price (thousands of dollars), size (square feet), tax bill (dollars), number of bathrooms, number of bedrooms, and whether the house is new (1 = yes, 0 = no) for 100 home sales in Gainesville, Florida. Let’s analyze the selling prices.\n",
        "\n",
        "(a) Construct a frequency distribution and a histogram. Describe the shape.  \n",
        "(b) Find the percentage of observations that fall within one standard deviation of the mean. Why is this not close to 68%?  \n",
        "(c) Construct a box plot, and interpret.   \n",
        "(d) Use descriptive statistics to compare selling prices according to whether the house is new.\n",
        "\n",
        "\n"
      ]
    },
    {
      "cell_type": "markdown",
      "metadata": {
        "id": "OCC9qN_50ScI"
      },
      "source": [
        "**Answer:**"
      ]
    },
    {
      "cell_type": "markdown",
      "metadata": {
        "id": "IhGGqXAj0ScI"
      },
      "source": [
        "`(a) Your answer goes here`"
      ]
    },
    {
      "cell_type": "code",
      "execution_count": null,
      "metadata": {
        "id": "LYwYdsE_0ScI"
      },
      "outputs": [],
      "source": []
    },
    {
      "cell_type": "markdown",
      "metadata": {
        "id": "xBOm6en00ScJ"
      },
      "source": [
        "`(b) Your answer goes here`\n"
      ]
    },
    {
      "cell_type": "code",
      "execution_count": null,
      "metadata": {
        "id": "fFKDk0Bb0ScJ"
      },
      "outputs": [],
      "source": []
    },
    {
      "cell_type": "markdown",
      "metadata": {
        "id": "H5ANMXzi0ScJ"
      },
      "source": [
        "`(c) Your answer goes here`"
      ]
    },
    {
      "cell_type": "code",
      "execution_count": null,
      "metadata": {
        "id": "SgRm6n3s0ScK"
      },
      "outputs": [],
      "source": []
    },
    {
      "cell_type": "markdown",
      "metadata": {
        "id": "n0cGEU2N0ScK"
      },
      "source": [
        "`(d) Your answer goes here`"
      ]
    },
    {
      "cell_type": "code",
      "execution_count": null,
      "metadata": {
        "id": "rlY5VhAa0ScL"
      },
      "outputs": [],
      "source": []
    }
  ],
  "metadata": {
    "kernelspec": {
      "display_name": "Python 3",
      "language": "python",
      "name": "python3"
    },
    "language_info": {
      "codemirror_mode": {
        "name": "ipython",
        "version": 3
      },
      "file_extension": ".py",
      "mimetype": "text/x-python",
      "name": "python",
      "nbconvert_exporter": "python",
      "pygments_lexer": "ipython3",
      "version": "3.8.3"
    },
    "vscode": {
      "interpreter": {
        "hash": "b61bb2d7a674932f79ec86662a4165aa288473e6e47a51dc8e3ab9a9cd94608c"
      },
      "toc": {
        "number_sections": false,
        "sideBar": true
      }
    },
    "colab": {
      "provenance": [],
      "include_colab_link": true
    }
  },
  "nbformat": 4,
  "nbformat_minor": 0
}